{
  "nbformat": 4,
  "nbformat_minor": 0,
  "metadata": {
    "colab": {
      "provenance": [],
      "authorship_tag": "ABX9TyM1jYYaxEzRNiogrfK+n/me",
      "include_colab_link": true
    },
    "kernelspec": {
      "name": "python3",
      "display_name": "Python 3"
    },
    "language_info": {
      "name": "python"
    }
  },
  "cells": [
    {
      "cell_type": "markdown",
      "metadata": {
        "id": "view-in-github",
        "colab_type": "text"
      },
      "source": [
        "<a href=\"https://colab.research.google.com/github/Amjadkp/Python-basic-Programs/blob/main/assignment_3.ipynb\" target=\"_parent\"><img src=\"https://colab.research.google.com/assets/colab-badge.svg\" alt=\"Open In Colab\"/></a>"
      ]
    },
    {
      "cell_type": "code",
      "execution_count": null,
      "metadata": {
        "id": "H8CPQrbHDVbs",
        "colab": {
          "base_uri": "https://localhost:8080/"
        },
        "outputId": "d48cbacf-50b3-439b-98d5-1f67124697ca"
      },
      "outputs": [
        {
          "output_type": "stream",
          "name": "stdout",
          "text": [
            "enter the number123\n",
            "reverse of the number 123 is =321\n"
          ]
        }
      ],
      "source": [
        "#reverse a number\n",
        "\n",
        "import math \n",
        "n=int(input(\"enter the number\"))\n",
        "num=n\n",
        "rev=0\n",
        "while n>0 :\n",
        "  r=n%10\n",
        "  rev=(rev*10)+r\n",
        "  n=math.floor(n/10)\n",
        "print(\"reverse of the number \"+str(num)+\" is =\"+str(rev))\n"
      ]
    },
    {
      "cell_type": "code",
      "source": [
        "#sum of first N natural numbers\n",
        "\n",
        "n=int(input(\"enter the natural number n : \"))\n",
        "sum=0\n",
        "i=1\n",
        "while i<=n :\n",
        "  sum=sum+i\n",
        "  i=i+1\n",
        "print(\"sum of the natural number upto \",n,\" is = \",sum)\n",
        "\n"
      ],
      "metadata": {
        "colab": {
          "base_uri": "https://localhost:8080/"
        },
        "id": "TGcxsUM3HxES",
        "outputId": "30067d26-9109-43b5-c681-ba74027fefc6"
      },
      "execution_count": null,
      "outputs": [
        {
          "output_type": "stream",
          "name": "stdout",
          "text": [
            "enter the natural number n : 5\n",
            "sum of the natural number upto  5  is =  15\n"
          ]
        }
      ]
    },
    {
      "cell_type": "code",
      "source": [
        "#sum of factors of a number\n",
        "\n",
        "num=int(input(\"enter the number : \"))\n",
        "i=1\n",
        "sum=0\n",
        "while (i<=num) :\n",
        "  if num%i==0 :\n",
        "    sum=sum+i\n",
        "    i=i+1\n",
        "  else :\n",
        "    i=i+1\n",
        "print(\"sum of factors of the \",num,\" is = \",sum)\n"
      ],
      "metadata": {
        "colab": {
          "base_uri": "https://localhost:8080/"
        },
        "id": "ohcoFDfDJZ37",
        "outputId": "237958da-6605-4c52-ec8b-71a6988e7466"
      },
      "execution_count": null,
      "outputs": [
        {
          "output_type": "stream",
          "name": "stdout",
          "text": [
            "enter the number : 12\n",
            "sum of factors of the  12  is =  28\n"
          ]
        }
      ]
    },
    {
      "cell_type": "code",
      "source": [
        "#programme to print n terms of a arithematic sequence\n",
        "\n",
        "n=int(input(\"enter the number of terms needed to be printed : \"))\n",
        "a=int(input(\"enter the first term of the sequence : \"))\n",
        "d=int(input(\"enter the common difference : \"))\n",
        "an=a+(n-1)*d\n",
        "while a<=an :\n",
        "  print(a)\n",
        "  a=a+d"
      ],
      "metadata": {
        "colab": {
          "base_uri": "https://localhost:8080/"
        },
        "id": "2zv7CyPUPaJN",
        "outputId": "8f1320b4-b47c-4bc8-d07b-f9bd10983761"
      },
      "execution_count": null,
      "outputs": [
        {
          "output_type": "stream",
          "name": "stdout",
          "text": [
            "enter the number of terms needed to be printed : 4\n",
            "enter the first term of the sequence : 2\n",
            "enter the common difference : 2\n",
            "2\n",
            "4\n",
            "6\n",
            "8\n"
          ]
        }
      ]
    },
    {
      "cell_type": "code",
      "source": [
        "#programme to print n terms of fibinacci series\n",
        "\n",
        "n=int(input(\"enter the number of of terms needed to be printed : \"))\n",
        "if n==1 :\n",
        "  print(0)\n",
        "if n==2 :\n",
        "  print(0)\n",
        "  print(1)\n",
        "if n>2 :\n",
        "  print(0)\n",
        "  print(1)\n",
        "  num1=0\n",
        "  num2=1\n",
        "  sum=0\n",
        "  i=3\n",
        "  while i<=n :\n",
        "    sum=num1+num2\n",
        "    num1=num2\n",
        "    num2=sum\n",
        "    print(sum)\n",
        "    i=i+1\n",
        "\n"
      ],
      "metadata": {
        "colab": {
          "base_uri": "https://localhost:8080/"
        },
        "id": "0UuEPMbWSYkR",
        "outputId": "984a6318-b180-4afe-b64b-3e975488164a"
      },
      "execution_count": null,
      "outputs": [
        {
          "output_type": "stream",
          "name": "stdout",
          "text": [
            "enter the number of of terms needed to be printed : 7\n",
            "0\n",
            "1\n",
            "1\n",
            "2\n",
            "3\n",
            "5\n",
            "8\n"
          ]
        }
      ]
    },
    {
      "cell_type": "code",
      "source": [
        "#check whether a number is palindrome or not\n",
        "\n",
        "import math\n",
        "n=int(input(\"enter the number : \"))\n",
        "num=n\n",
        "rev=0\n",
        "while n>0 :\n",
        "  r=n%10\n",
        "  rev=(rev*10)+r\n",
        "  n=math.floor(n/10)\n",
        "if num==rev :\n",
        "  print(str(num)+\" is palindrome\")\n",
        "else :\n",
        "  print(str(num)+\" is not a palindrome\")\n"
      ],
      "metadata": {
        "colab": {
          "base_uri": "https://localhost:8080/"
        },
        "id": "PylFhDV0bKQZ",
        "outputId": "b4b13313-562c-4d9d-f8f6-fd2024fe1d0a"
      },
      "execution_count": null,
      "outputs": [
        {
          "output_type": "stream",
          "name": "stdout",
          "text": [
            "enter the number : 121\n",
            "121 is palindrome\n"
          ]
        }
      ]
    },
    {
      "cell_type": "code",
      "source": [
        "#check whether a number is amstrong or not\n",
        "\n",
        "import math\n",
        "num=int(input(\"enter the number : \"))\n",
        "n=num\n",
        "numb=num\n",
        "c=0\n",
        "while n>0 :\n",
        "  c=c+1\n",
        "  n=math.floor(n/10)\n",
        "ams=0\n",
        "i=c\n",
        "while c>0 :\n",
        "  r=num%10\n",
        "  ams=ams+r**i\n",
        "  num=num//10\n",
        "  c=c-1\n",
        "if ams==numb :\n",
        "  print(str(numb)+\" is a amsrong number\")\n",
        "else :\n",
        "  print(str(numb)+\" is not a amstrong number\")\n",
        "\n",
        "\n",
        "\n"
      ],
      "metadata": {
        "colab": {
          "base_uri": "https://localhost:8080/"
        },
        "id": "gnrGSHUCb5Wp",
        "outputId": "6edd8270-cd30-4191-da06-ecde2d56e7f9"
      },
      "execution_count": null,
      "outputs": [
        {
          "output_type": "stream",
          "name": "stdout",
          "text": [
            "enter the number : 143\n",
            "143 is not a amstrong number\n"
          ]
        }
      ]
    },
    {
      "cell_type": "code",
      "source": [
        "#evaluate x^n\n",
        "\n",
        "num=int(input(\"enter the number x in x^n : \"))\n",
        "pwr=int(input(\"enter the number n in x^n : \"))\n",
        "n=num\n",
        "p=pwr\n",
        "res=1\n",
        "while p>0 :\n",
        "  res=res*n\n",
        "  p=p-1\n",
        "print(str(num)+\"^\"+str(pwr)+\" is = \"+str(res))\n"
      ],
      "metadata": {
        "colab": {
          "base_uri": "https://localhost:8080/"
        },
        "id": "oSvQ-Ox0cIT1",
        "outputId": "8f1f2bc6-2983-4ffa-d3eb-5c0b29742d4f"
      },
      "execution_count": null,
      "outputs": [
        {
          "output_type": "stream",
          "name": "stdout",
          "text": [
            "enter the number x in x^n : 3\n",
            "enter the number n in x^n : 3\n",
            "3^3 is = 27\n"
          ]
        }
      ]
    },
    {
      "cell_type": "code",
      "source": [
        "#square of between a lower and upper limit\n",
        "\n",
        "lower = int(input(\"Enter the lower limit \"))\n",
        "upper = int(input(\"Enter the upper limit \"))\n",
        "for i in range(lower+1,upper):\n",
        "  print(i*i,end=\" , \")\n"
      ],
      "metadata": {
        "id": "a-5yYX6ZEch3"
      },
      "execution_count": null,
      "outputs": []
    },
    {
      "cell_type": "code",
      "source": [
        "#To print first n odd numbers\n",
        "\n",
        "n=int(input(\"enter the no of first odd numbers needed to be printed : \" ))\n",
        "i=0\n",
        "while i<n :\n",
        "  odd=2*i+1\n",
        "  i=i+1\n",
        "  print(odd)"
      ],
      "metadata": {
        "colab": {
          "base_uri": "https://localhost:8080/"
        },
        "id": "58unzsjmfPgW",
        "outputId": "d2cab3d3-5bcc-4c56-fe16-16090c50b0b8"
      },
      "execution_count": null,
      "outputs": [
        {
          "output_type": "stream",
          "name": "stdout",
          "text": [
            "enter the no of first odd numbers needed to be printed : 5\n",
            "1\n",
            "3\n",
            "5\n",
            "7\n",
            "9\n"
          ]
        }
      ]
    },
    {
      "cell_type": "code",
      "source": [
        "#TO print the sum of n terms of a series\n",
        "\n",
        "n=int(input(\"enter the number of terms : \"))\n",
        "a=int(input(\"enter the first term of the sequence : \"))\n",
        "d=int(input(\"enter the common difference : \"))\n",
        "an=a+(n-1)*d\n",
        "sum=0\n",
        "while a<=an :\n",
        "  sum=sum+a\n",
        "  a=a+d\n",
        "print(\"sum of the series = \",sum)"
      ],
      "metadata": {
        "colab": {
          "base_uri": "https://localhost:8080/"
        },
        "id": "1j3J5DnG_VS1",
        "outputId": "ed953ca3-d10f-4c1b-e346-51b603041f24"
      },
      "execution_count": null,
      "outputs": [
        {
          "output_type": "stream",
          "name": "stdout",
          "text": [
            "enter the number of terms needed to be printed : 5\n",
            "enter the first term of the sequence : 2\n",
            "enter the common difference : 2\n",
            "sum of the series =  30\n"
          ]
        }
      ]
    },
    {
      "cell_type": "code",
      "source": [
        "#To print GCD of 2 numbers-\n",
        "\n",
        "num1=int(input(\"enter the first number : \"))\n",
        "num2=int(input(\"enter the second number : \"))\n",
        "gcd=1\n",
        "if num1>num2 :\n",
        "  for i in range(1,(num1//2)+1):\n",
        "    if num1%i==0 and num2%i==0 :\n",
        "      gcd=i\n",
        "else:\n",
        "  for i in range(1,(num2//2)+1) :\n",
        "    if num2%i==0 and num1%i==0 :\n",
        "      gcd=i\n",
        "print(\"gcd of\",num1,\" and \",num2,\"is = \",gcd)\n",
        "  "
      ],
      "metadata": {
        "id": "GGNJPf77faXq",
        "colab": {
          "base_uri": "https://localhost:8080/"
        },
        "outputId": "b7504cc7-bdfa-4217-cfd4-2631cbc2009f"
      },
      "execution_count": null,
      "outputs": [
        {
          "output_type": "stream",
          "name": "stdout",
          "text": [
            "enter the first number : 6\n",
            "enter the second number : 4\n",
            "gcd of 6  and  4 is =  2\n"
          ]
        }
      ]
    },
    {
      "cell_type": "code",
      "source": [
        "#Factorial of a number\n",
        "\n",
        "num=int(input(\"enter the number : \"))\n",
        "fact=1\n",
        "i=2\n",
        "while i<=num :\n",
        "  fact=fact*i\n",
        "  i=i+1\n",
        "print(\"factoril of number \",num,\" is = \",fact)"
      ],
      "metadata": {
        "colab": {
          "base_uri": "https://localhost:8080/"
        },
        "id": "reZDfV4ffvvv",
        "outputId": "7201714f-3979-410b-a5ab-de79587773c1"
      },
      "execution_count": null,
      "outputs": [
        {
          "output_type": "stream",
          "name": "stdout",
          "text": [
            "enter the number : 5\n",
            "factoril of number  5  is =  120\n"
          ]
        }
      ]
    },
    {
      "cell_type": "code",
      "source": [
        "#check whether a number is automorphic \n",
        "\n",
        "n=m=int(input(\"enter the number : \"))\n",
        "i=0\n",
        "sq=n*n\n",
        "while m>0:\n",
        "  m=m//10\n",
        "  i=i+1\n",
        "if (sq%(10**i)==n):\n",
        "  print(\"its a automorphic\")\n",
        "else:\n",
        "  print(\"it's not an automorphic\")\n",
        "\n"
      ],
      "metadata": {
        "id": "woWZY4EMgZYM",
        "colab": {
          "base_uri": "https://localhost:8080/"
        },
        "outputId": "0d8a80d5-4470-46af-b7ba-32d09ac5b4ba"
      },
      "execution_count": null,
      "outputs": [
        {
          "output_type": "stream",
          "name": "stdout",
          "text": [
            "enter the number : 7\n",
            "it's not an automorphic\n"
          ]
        }
      ]
    },
    {
      "cell_type": "code",
      "source": [
        "#Read a binary number and print its decimal equivalent\n",
        "\n",
        "binary_number = int(input(\"Enter the binary number \"))\n",
        "binary_number_copy = binary_number\n",
        "length = 0\n",
        "decimal = 0\n",
        "while binary_number_copy>0:\n",
        "  binary_number_copy = binary_number_copy//10\n",
        "  length = length + 1\n",
        "\n",
        "\n",
        "for i in range(length):\n",
        "    remainder = binary_number%10\n",
        "    binary_number = binary_number//10\n",
        "    decimal = decimal + remainder*pow(2,i)\n",
        "\n",
        "print(decimal)\n",
        "\n"
      ],
      "metadata": {
        "id": "Mkhf61WBgoRr"
      },
      "execution_count": null,
      "outputs": []
    }
  ]
}