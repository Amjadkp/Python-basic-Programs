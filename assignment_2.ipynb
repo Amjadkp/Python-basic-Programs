{
  "nbformat": 4,
  "nbformat_minor": 0,
  "metadata": {
    "colab": {
      "provenance": [],
      "authorship_tag": "ABX9TyO8zGnT2gopINTfhZbc4fc4",
      "include_colab_link": true
    },
    "kernelspec": {
      "name": "python3",
      "display_name": "Python 3"
    },
    "language_info": {
      "name": "python"
    }
  },
  "cells": [
    {
      "cell_type": "markdown",
      "metadata": {
        "id": "view-in-github",
        "colab_type": "text"
      },
      "source": [
        "<a href=\"https://colab.research.google.com/github/Amjadkp/Python-basic-Programs/blob/main/assignment_2.ipynb\" target=\"_parent\"><img src=\"https://colab.research.google.com/assets/colab-badge.svg\" alt=\"Open In Colab\"/></a>"
      ]
    },
    {
      "cell_type": "code",
      "execution_count": null,
      "metadata": {
        "colab": {
          "base_uri": "https://localhost:8080/"
        },
        "id": "MPHvS9cn1mfP",
        "outputId": "6f8033ff-89ad-4cb7-fc4e-2a60728f53ad"
      },
      "outputs": [
        {
          "output_type": "stream",
          "name": "stdout",
          "text": [
            "enter first number : 5\n",
            "enter second number : 6\n",
            "6 is greater than 5\n"
          ]
        }
      ],
      "source": [
        "#biggest of 2 numbers\n",
        "\n",
        "num1=int(input(\"enter first number : \"))\n",
        "num2=int(input(\"enter second number : \"))\n",
        "if num1>num2:\n",
        "  print(str(num1)+\" is greater than \"+str(num2))\n",
        "else :\n",
        "  print(str(num2)+\" is greater than \"+str(num1))"
      ]
    },
    {
      "cell_type": "code",
      "source": [
        "#smallest of three numbers\n",
        "\n",
        "num1=int(input(\"enter first number : \"))\n",
        "num2=int(input(\"enter second number : \"))\n",
        "num3=int(input(\"enter third number : \"))\n",
        "if num1<num2:\n",
        "  if num1<num3:\n",
        "    print(str(num1)+\"is the smallest number\")\n",
        "  elif num2<num3 :\n",
        "      print(str(num2)+\"is the smallest number\")\n",
        "elif num2<num3 :\n",
        "    print(str(num2)+\" is the smallest number\")\n",
        "else :\n",
        "    print(str(num3)+\" is the largest number\")"
      ],
      "metadata": {
        "colab": {
          "base_uri": "https://localhost:8080/"
        },
        "id": "-Q17ss7d74PB",
        "outputId": "10d6c6d9-6600-4c4a-e63e-99e1309e5998"
      },
      "execution_count": null,
      "outputs": [
        {
          "name": "stdout",
          "output_type": "stream",
          "text": [
            "enter first number : 6\n",
            "enter second number : 8\n",
            "enter third number : 4\n"
          ]
        }
      ]
    },
    {
      "cell_type": "code",
      "source": [
        "num1 = float(input(\"Enter First Number \"))\n",
        "num2 = float(input(\"Enter Second Number \"))\n",
        "num3 = float(input(\"Enter Third Number \"))\n",
        "if num1>num2:\n",
        "  if num2>num3:\n",
        "    print(str(num3)+\" is the smallest number\")\n",
        "  else:\n",
        "    print(str(num2)+\" is the smallest number\")\n",
        "else :\n",
        "  if num1>num3:\n",
        "    print(str(num3)+\" is the smallest number\")\n",
        "  else:\n",
        "    print(str(num1)+\" is the smallest number\")\n"
      ],
      "metadata": {
        "colab": {
          "base_uri": "https://localhost:8080/"
        },
        "id": "_ZFw6J05Efpa",
        "outputId": "52287fe5-91e7-4094-c918-0a535486b609"
      },
      "execution_count": null,
      "outputs": [
        {
          "output_type": "stream",
          "name": "stdout",
          "text": [
            "Enter First Number 6\n",
            "Enter Second Number 8\n",
            "Enter Third Number 4\n",
            "4.0 is the smallest number\n"
          ]
        }
      ]
    },
    {
      "cell_type": "code",
      "source": [
        "#check whether a number is two digit number or not\n",
        "\n",
        "num=int(input(\"enter the number : \"))\n",
        "if num>9 :\n",
        "  if num<100 :\n",
        "    print(str(num)+\" is two digit number\")\n",
        "  else :\n",
        "    print(str(num)+\" is not a two digit\")\n",
        "else :\n",
        "  print(str(num)+\" is not a two digit number\")\n",
        "  \n"
      ],
      "metadata": {
        "id": "12yE3ovnFb9J",
        "colab": {
          "base_uri": "https://localhost:8080/"
        },
        "outputId": "680961e3-20b8-45aa-a962-4ca2bb20bf4c"
      },
      "execution_count": null,
      "outputs": [
        {
          "output_type": "stream",
          "name": "stdout",
          "text": [
            "enter the number : 78\n",
            "78 is two digit number\n"
          ]
        }
      ]
    },
    {
      "cell_type": "code",
      "source": [
        "#distance between 2 point in a number line\n",
        "\n",
        "p1=int(input(\"enter a point in number line : \"))\n",
        "p2=int(input(\"enter a point in number line : \"))\n",
        "if p1>p2 :\n",
        "  dis=p1-p2\n",
        "  print(\"distance between \",p1,\" and \",p2,\"is = \",dis)\n",
        "else :\n",
        "  dis=p2-p1\n",
        "  print(\"distance between \",p1,\" and \",p2,\"is = \",dis)\n",
        "\n"
      ],
      "metadata": {
        "colab": {
          "base_uri": "https://localhost:8080/"
        },
        "id": "5h2f0XGrs1r2",
        "outputId": "ef734c67-7455-414d-f994-de2bd9a80762"
      },
      "execution_count": null,
      "outputs": [
        {
          "output_type": "stream",
          "name": "stdout",
          "text": [
            "enter a point in number line5\n",
            "enter a point in number line4\n",
            "distance between  5  and  4 is =  1\n"
          ]
        }
      ]
    },
    {
      "cell_type": "code",
      "source": [
        "#check whether a number is posive or negative or zero\n",
        "\n",
        "num=int(input(\"enter the number\"))\n",
        "if num>0 :\n",
        "  print(str(num)+\" is a positive number\")\n",
        "elif num<0 :\n",
        "      print(str(num)+\" is a negative number\")\n",
        "else :\n",
        "    print(\"this number is 0\")\n",
        "    \n"
      ],
      "metadata": {
        "colab": {
          "base_uri": "https://localhost:8080/"
        },
        "id": "vuJbNxvNtnp5",
        "outputId": "839fd4b1-273f-4aa2-bc8e-7a62b08fde5a"
      },
      "execution_count": null,
      "outputs": [
        {
          "output_type": "stream",
          "name": "stdout",
          "text": [
            "enter the number0\n",
            "this number is 0\n"
          ]
        }
      ]
    },
    {
      "cell_type": "code",
      "source": [
        "#whether a number is multiple of another\n",
        "\n",
        "num1=int(input(\"enter the first number : \"))\n",
        "num2=int(input(\"enter the second number : \"))\n",
        "if (num1%num2==0) :\n",
        "  print(str(num1)+\" is a multiple of \"+str(num2))\n",
        "else :\n",
        "  print(str(num1)+\" is not a multiple of \"+str(num2))\n"
      ],
      "metadata": {
        "id": "RoGLL3ip0bFh",
        "colab": {
          "base_uri": "https://localhost:8080/"
        },
        "outputId": "b7066631-94a9-4436-8bd2-156570596904"
      },
      "execution_count": null,
      "outputs": [
        {
          "output_type": "stream",
          "name": "stdout",
          "text": [
            "enter the first number : 4\n",
            "enter the second number : 5\n",
            "4 is not a multiple of 5\n"
          ]
        }
      ]
    },
    {
      "cell_type": "code",
      "source": [
        "#smallest digit in two digit number\n",
        "\n",
        "num=int(input(\"enter a two digit number : \"))\n",
        "dig1=num%10\n",
        "dig2=math.floor(num//10)\n",
        "if dig1<dig2 :\n",
        "  print(str(dig1)+\" is the smallest digit\")\n",
        "elif dig1>dig2 :\n",
        "  print(str(dig2)+\" is the smallest digit\")\n",
        "else :\n",
        "  print(\"both digits are equal\")\n",
        "  "
      ],
      "metadata": {
        "colab": {
          "base_uri": "https://localhost:8080/"
        },
        "id": "uPshFl4W_zmi",
        "outputId": "d85f8b3a-6dcc-423e-8d30-aa359b94cc92"
      },
      "execution_count": null,
      "outputs": [
        {
          "output_type": "stream",
          "name": "stdout",
          "text": [
            "enter the number : 89\n",
            "8 is the smallest digit\n"
          ]
        }
      ]
    },
    {
      "cell_type": "code",
      "source": [
        "#nature of solution of a quadratic equation\n",
        "\n",
        "a = float(input(\"Enter the co-efficient of x^2 \"))\n",
        "b = float(input(\"Enter the co-efficient of x \"))\n",
        "c = float(input(\"Enter the constant term \"))\n",
        "d = b*b-(4*a*c)\n",
        "if d==0:\n",
        "  print(\"Real and equal roots\")\n",
        "elif d>0:\n",
        "  print(\"Real and unequal roots\")\n",
        "else:\n",
        "  print(\"Imaginary Root\")"
      ],
      "metadata": {
        "id": "6P2niBwLC7oK",
        "colab": {
          "base_uri": "https://localhost:8080/"
        },
        "outputId": "a50b2188-a7af-4847-ff97-e11ed454652e"
      },
      "execution_count": 1,
      "outputs": [
        {
          "output_type": "stream",
          "name": "stdout",
          "text": [
            "Enter the co-efficient of x^2 1\n",
            "Enter the co-efficient of x 2\n",
            "Enter the constant term -15\n",
            "Real and unequal roots\n"
          ]
        }
      ]
    }
  ]
}