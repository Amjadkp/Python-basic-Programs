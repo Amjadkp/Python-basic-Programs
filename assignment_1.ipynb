{
  "nbformat": 4,
  "nbformat_minor": 0,
  "metadata": {
    "colab": {
      "provenance": [],
      "authorship_tag": "ABX9TyPtSyuQhTSsgFkjZHr6i97e",
      "include_colab_link": true
    },
    "kernelspec": {
      "name": "python3",
      "display_name": "Python 3"
    },
    "language_info": {
      "name": "python"
    }
  },
  "cells": [
    {
      "cell_type": "markdown",
      "metadata": {
        "id": "view-in-github",
        "colab_type": "text"
      },
      "source": [
        "<a href=\"https://colab.research.google.com/github/Amjadkp/Python-basic-Programs/blob/main/assignment_1.ipynb\" target=\"_parent\"><img src=\"https://colab.research.google.com/assets/colab-badge.svg\" alt=\"Open In Colab\"/></a>"
      ]
    },
    {
      "cell_type": "code",
      "execution_count": null,
      "metadata": {
        "colab": {
          "base_uri": "https://localhost:8080/"
        },
        "id": "GvCI5C7yuHo7",
        "outputId": "038c85a4-5200-42b0-f56d-bcbfb9224c1e"
      },
      "outputs": [
        {
          "output_type": "stream",
          "name": "stdout",
          "text": [
            "enter the first integer : 6\n",
            "enter the second integer : 5\n",
            "enter the third intrger : 7\n",
            "average is 6.0\n"
          ]
        }
      ],
      "source": [
        "#average of three numbers\n",
        "\n",
        "a=float(input(\"enter the first integer : \"))\n",
        "b=float(input(\"enter the second integer : \"))\n",
        "c=float(input(\"enter the third intrger : \"))\n",
        "avg=(a+b+c)/3\n",
        "print(\"average is\",avg )"
      ]
    },
    {
      "cell_type": "code",
      "source": [
        "#CONVERSION OF TIME IN SECONDS\n",
        "\n",
        "t=int(input(\"enter the the time in seconds\"))\n",
        "h=t%3600\n",
        "hr=(t-h)/3600\n",
        "m=h%60\n",
        "min=(h-m)/60\n",
        "s=t-(hr*3600+min*60)\n",
        "print(\" hours= \",hr,\" minutes= \",min,\" seconds= \",s )"
      ],
      "metadata": {
        "colab": {
          "base_uri": "https://localhost:8080/"
        },
        "id": "3PAnryAATnw-",
        "outputId": "d8cbb1a5-5241-413b-be85-9cb562d89981"
      },
      "execution_count": null,
      "outputs": [
        {
          "output_type": "stream",
          "name": "stdout",
          "text": [
            "enter the the time in seconds6050\n",
            " hours=  1.0  minutes=  40.0  seconds=  50.0\n"
          ]
        }
      ]
    },
    {
      "cell_type": "code",
      "source": [
        "#conversion of time in days \n",
        "\n",
        "d=int(input(\"enter number of days : \"))\n",
        "y=d%365\n",
        "yr=(d-y)/365\n",
        "m=y%30\n",
        "mon=(y-m)/30\n",
        "dys=d-(yr*365+mon*30)\n",
        "print(\"years= \",yr,\" months= \",mon,\" days= \",dys)"
      ],
      "metadata": {
        "colab": {
          "base_uri": "https://localhost:8080/"
        },
        "id": "IN1SukWwTnym",
        "outputId": "d5ae110d-3375-429d-dc34-53931a1f5a83"
      },
      "execution_count": null,
      "outputs": [
        {
          "output_type": "stream",
          "name": "stdout",
          "text": [
            "enter number of days : 3695\n",
            "years=  10.0  months=  1.0  days=  15.0\n"
          ]
        }
      ]
    },
    {
      "cell_type": "code",
      "source": [
        "#area and perimeter of a triangle\n",
        "\n",
        "import math\n",
        "\n",
        "a=int(input(\"enter the length of side a : \"))\n",
        "b=int(input(\"enter the length of side b : \"))\n",
        "c=int(input(\"enter the length of side c : \"))\n",
        "s=(a+b+c)/2\n",
        "area=math.sqrt(s*(s-a)*(s-b)*(s-c))\n",
        "perimeter=a+b+c\n",
        "print(\"area of triangle = \",area,\"perimeter of triangle = \",perimeter)\n"
      ],
      "metadata": {
        "id": "oGm8oFZJbk-1",
        "colab": {
          "base_uri": "https://localhost:8080/"
        },
        "outputId": "647df8b5-4c7c-4fd6-ba03-c8d3a380b318"
      },
      "execution_count": null,
      "outputs": [
        {
          "output_type": "stream",
          "name": "stdout",
          "text": [
            "enter the length of side a : 3\n",
            "enter the length of side b : 4\n",
            "enter the length of side c : 5\n",
            "area of triangle =  6.0 perimeter of triangle =  12\n"
          ]
        }
      ]
    },
    {
      "cell_type": "code",
      "source": [
        "#area of circle\n",
        "\n",
        "pi=3.14\n",
        "r=int(input(\"enter the radius of the circle : \"))\n",
        "area=(pi*r**2)\n",
        "print(\"area of the triangle = \",area)"
      ],
      "metadata": {
        "colab": {
          "base_uri": "https://localhost:8080/"
        },
        "id": "zsDmgeeURym_",
        "outputId": "09c7bed9-3bca-4221-b609-9f7ff3182455"
      },
      "execution_count": null,
      "outputs": [
        {
          "output_type": "stream",
          "name": "stdout",
          "text": [
            "enter the radius of the circle : 7\n",
            "area of the triangle =  153.86\n"
          ]
        }
      ]
    },
    {
      "cell_type": "code",
      "source": [
        "#interchanging two numbers without third variables\n",
        "\n",
        "a=int(input(\"enter a number A : \"))\n",
        "b=int(input(\"enter a number B : \"))\n",
        "a=a+b\n",
        "b=a-b\n",
        "a=a-b\n",
        "print(\"A is =\",a,\" and \",\"b is =\" ,b) "
      ],
      "metadata": {
        "id": "8FPO3gFETGc2",
        "colab": {
          "base_uri": "https://localhost:8080/"
        },
        "outputId": "f84c6553-3479-457e-bca1-79640c081b97"
      },
      "execution_count": null,
      "outputs": [
        {
          "output_type": "stream",
          "name": "stdout",
          "text": [
            "enter a number A : 5\n",
            "enter a number B : 10\n",
            "A is = 10  and  b is = 5\n"
          ]
        }
      ]
    },
    {
      "cell_type": "code",
      "source": [
        "#diffrence,sum,product,quotient,reminder\n",
        "\n",
        "a=int(input(\"enter firt number : \"))\n",
        "b=int(input(\"enter second number: \"))\n",
        "diffrence=a-b\n",
        "sum=a+b\n",
        "product=a*b\n",
        "quotient=a/b\n",
        "remainder=a%b\n",
        "print(\"diffrence between two n8umbers \",a, \" and \",b,\"is =\",diffrence)\n",
        "print(\"sum of the two number \",a,\" and \" ,b,\"is =\",sum)\n",
        "print(\"product of two numbers \",a,\" and \",b,\"is =\",product)\n",
        "print(\"quotient of \",a,\" by \",b,\" is =\",quotient)\n",
        "print(\"remainder of \",a,\" by \",b,\"is =\",remainder)\n"
      ],
      "metadata": {
        "colab": {
          "base_uri": "https://localhost:8080/"
        },
        "id": "4PtdUhYat3mT",
        "outputId": "e1e47ab5-3082-4566-d2fc-1bec7420bbb6"
      },
      "execution_count": null,
      "outputs": [
        {
          "output_type": "stream",
          "name": "stdout",
          "text": [
            "enter firt number : 8\n",
            "enter second number: 4\n",
            "diffrence between two n8umbers  8  and  4 is = 4\n",
            "sum of the two number  8  and  4 is = 12\n",
            "product of two numbers  8  and  4 is = 32\n",
            "quotient of  8  by  4  is = 2.0\n",
            "remainder of  8  by  4 is = 0\n"
          ]
        }
      ]
    }
  ]
}